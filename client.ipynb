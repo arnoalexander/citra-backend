{
 "cells": [
  {
   "cell_type": "code",
   "execution_count": 1,
   "metadata": {},
   "outputs": [],
   "source": [
    "from PIL import Image\n",
    "import numpy as np\n",
    "from queue import Queue"
   ]
  },
  {
   "cell_type": "code",
   "execution_count": 2,
   "metadata": {},
   "outputs": [
    {
     "data": {
      "image/png": "[encoded data removed]",
      "text/plain": [
       "<PIL.PngImagePlugin.PngImageFile image mode=RGBA size=358x136 at 0x7EFD4C9DD240>"
      ]
     },
     "execution_count": 2,
     "metadata": {},
     "output_type": "execute_result"
    }
   ],
   "source": [
    "file_name = \"input/nums.jpg\"\n",
    "\n",
    "input_image = Image.open(open(file_name, 'rb'))\n",
    "input_image"
   ]
  },
  {
   "cell_type": "code",
   "execution_count": 3,
   "metadata": {},
   "outputs": [],
   "source": [
    "# url = 'http://localhost:5000/blackwhite'\n",
    "# files = {'media': open('bebek.jpg', 'rb')}\n",
    "# response = requests.post(url, files=files)\n",
    "# response.content"
   ]
  },
  {
   "cell_type": "code",
   "execution_count": 4,
   "metadata": {},
   "outputs": [
    {
     "data": {
      "image/png": "[encoded data removed]",
      "text/plain": [
       "<PIL.Image.Image image mode=L size=358x136 at 0x7EFD4C901B70>"
      ]
     },
     "execution_count": 4,
     "metadata": {},
     "output_type": "execute_result"
    }
   ],
   "source": [
    "pixel_img = np.array(input_image)\n",
    "pixel_gray = np.zeros(pixel_img.shape[0:2], pixel_img.dtype)\n",
    "for i, row in enumerate(pixel_img):\n",
    "    for j, pix in enumerate(row):\n",
    "        pixel_gray[i][j] = np.uint8(pix[:3].mean())\n",
    "        \n",
    "Image.fromarray(pixel_gray)"
   ]
  },
  {
   "cell_type": "code",
   "execution_count": 5,
   "metadata": {},
   "outputs": [
    {
     "data": {
      "image/png": "[encoded data removed]",
      "text/plain": [
       "<PIL.Image.Image image mode=L size=358x136 at 0x7EFD4C901EB8>"
      ]
     },
     "execution_count": 5,
     "metadata": {},
     "output_type": "execute_result"
    }
   ],
   "source": [
    "threshold = 31\n",
    "\n",
    "pixel_bw = np.zeros(pixel_gray.shape[0:2], pixel_gray.dtype)\n",
    "for i, row in enumerate(pixel_gray):\n",
    "    for j, pix in enumerate(row):\n",
    "        if pixel_gray[i][j] < threshold:\n",
    "            pixel_bw[i][j] = 255\n",
    "        else:\n",
    "            pixel_bw[i][j] = 0\n",
    "\n",
    "Image.fromarray(pixel_bw)"
   ]
  },
  {
   "cell_type": "code",
   "execution_count": 6,
   "metadata": {},
   "outputs": [
    {
     "name": "stdout",
     "output_type": "stream",
     "text": [
      "[{'pivot': (21, 57), 'size': 191, 'ul': (21, 49), 'lr': (49, 68)}, {'pivot': (21, 118), 'size': 143, 'ul': (21, 111), 'lr': (49, 127)}, {'pivot': (21, 177), 'size': 170, 'ul': (21, 170), 'lr': (49, 187)}, {'pivot': (21, 237), 'size': 178, 'ul': (21, 229), 'lr': (49, 248)}, {'pivot': (21, 302), 'size': 161, 'ul': (21, 288), 'lr': (49, 308)}, {'pivot': (80, 51), 'size': 193, 'ul': (80, 49), 'lr': (108, 68)}, {'pivot': (80, 118), 'size': 193, 'ul': (80, 110), 'lr': (108, 128)}, {'pivot': (80, 170), 'size': 124, 'ul': (80, 170), 'lr': (108, 187)}, {'pivot': (80, 237), 'size': 206, 'ul': (80, 229), 'lr': (108, 248)}, {'pivot': (80, 297), 'size': 190, 'ul': (80, 290), 'lr': (108, 307)}]\n"
     ]
    }
   ],
   "source": [
    "pixel_visited = np.zeros(pixel_bw.shape[0:2], bool)\n",
    "\n",
    "def antiflood(i, j, matrix_bw, matrix_visited):\n",
    "    q = Queue()\n",
    "    q.put((i,j))\n",
    "    matrix_visited[i][j] = True\n",
    "    cluster_size = 0\n",
    "    upper_left_point = (i,j)\n",
    "    lower_right_point = (i,j)\n",
    "    while not q.empty():\n",
    "        current = q.get()\n",
    "        if current[0] > lower_right_point[0]:\n",
    "            lower_right_point = (current[0], lower_right_point[1])\n",
    "        if current[1] < upper_left_point[1]:\n",
    "            upper_left_point = (upper_left_point[0], current[1])\n",
    "        elif current[1] > lower_right_point[1]:\n",
    "            lower_right_point = (lower_right_point[0], current[1])\n",
    "        cluster_size += 1\n",
    "        if (current[0]-1 >= 0) and matrix_bw[current[0]-1][current[1]] == 255 and not matrix_visited[current[0]-1][current[1]]:\n",
    "            q.put((current[0]-1, current[1]))\n",
    "            matrix_visited[current[0]-1][current[1]] = True\n",
    "        if (current[0]+1 < pixel_visited.shape[0]) and matrix_bw[current[0]+1][current[1]] == 255 and not matrix_visited[current[0]+1][current[1]]:\n",
    "            q.put((current[0]+1, current[1]))\n",
    "            matrix_visited[current[0]+1][current[1]] = True\n",
    "        if (current[1]-1 >= 0) and matrix_bw[current[0]][current[1]-1] == 255 and not matrix_visited[current[0]][current[1]-1]:\n",
    "            q.put((current[0], current[1]-1))\n",
    "            matrix_visited[current[0]][current[1]-1] = True\n",
    "        if (current[1]+1 < pixel_visited.shape[1]) and matrix_bw[current[0]][current[1]+1] == 255 and not matrix_visited[current[0]][current[1]+1]:\n",
    "            q.put((current[0], current[1]+1))\n",
    "            matrix_visited[current[0]][current[1]+1] = True\n",
    "    return matrix_visited, cluster_size, upper_left_point, lower_right_point\n",
    "\n",
    "size_threshold = 64\n",
    "cluster_pivots = []\n",
    "for i, row in enumerate(pixel_bw):\n",
    "    for j, pix in enumerate(row):\n",
    "        if pix == 255 and not pixel_visited[i][j]:\n",
    "            pixel_visited, cluster_size, upper_left_point, lower_right_point = antiflood(i, j, pixel_bw, pixel_visited)\n",
    "            if cluster_size > size_threshold:\n",
    "                cluster_pivots.append({'pivot' : (i,j), 'size' : cluster_size, 'ul' : upper_left_point, 'lr' : lower_right_point})\n",
    "print(cluster_pivots)"
   ]
  },
  {
   "cell_type": "code",
   "execution_count": 7,
   "metadata": {},
   "outputs": [
    {
     "name": "stdout",
     "output_type": "stream",
     "text": [
      "[{'pivot': (21, 57), 'size': 191, 'ul': (21, 49), 'lr': (49, 68), 'chains': array([20, 13, 29, 13, 20, 13, 29, 12], dtype=uint32)}, {'pivot': (21, 118), 'size': 143, 'ul': (21, 111), 'lr': (49, 127), 'chains': array([23,  3, 33,  9, 23,  3, 33, 10], dtype=uint32)}, {'pivot': (21, 177), 'size': 170, 'ul': (21, 170), 'lr': (49, 187), 'chains': array([48, 11, 33, 35, 48,  7, 33, 36], dtype=uint32)}, {'pivot': (21, 237), 'size': 178, 'ul': (21, 229), 'lr': (49, 248), 'chains': array([51, 27, 38, 25, 51, 25, 38, 22], dtype=uint32)}, {'pivot': (21, 302), 'size': 161, 'ul': (21, 288), 'lr': (49, 308), 'chains': array([21,  3, 29,  3, 21,  3, 29, 28], dtype=uint32)}, {'pivot': (80, 51), 'size': 193, 'ul': (80, 49), 'lr': (108, 68), 'chains': array([50, 21, 37, 19, 50, 19, 37, 14], dtype=uint32)}, {'pivot': (80, 118), 'size': 193, 'ul': (80, 110), 'lr': (108, 128), 'chains': array([34, 21, 36, 21, 34, 17, 36, 20], dtype=uint32)}, {'pivot': (80, 170), 'size': 124, 'ul': (80, 170), 'lr': (108, 187), 'chains': array([28,  1, 29, 21, 28,  3, 29, 20], dtype=uint32)}, {'pivot': (80, 237), 'size': 206, 'ul': (80, 229), 'lr': (108, 248), 'chains': array([30, 17, 29, 19, 30, 19, 29, 18], dtype=uint32)}, {'pivot': (80, 297), 'size': 190, 'ul': (80, 290), 'lr': (108, 307), 'chains': array([34, 17, 36, 21, 34, 19, 36, 18], dtype=uint32)}]\n"
     ]
    }
   ],
   "source": [
    "\"\"\"\n",
    "Directions:\n",
    "\n",
    "701\n",
    "6x2\n",
    "543\n",
    "\n",
    "\"\"\"\n",
    "\n",
    "for i, pivot in enumerate(cluster_pivots):\n",
    "    direction_count = np.zeros(8, dtype='uint32')\n",
    "    current_direction = 0\n",
    "    direction_count[0] += 1\n",
    "    current_pivot = pivot['pivot']\n",
    "    start = False\n",
    "    while not start or not (current_pivot[0] == pivot['pivot'][0] and current_pivot[1] == pivot['pivot'][1]):\n",
    "        start = True\n",
    "        if current_direction == 0:\n",
    "            if pixel_bw[current_pivot[0]-1][current_pivot[1]+1] == 255:\n",
    "                current_pivot = (current_pivot[0]-1, current_pivot[1]+1)\n",
    "                current_direction = 6\n",
    "                direction_count[6] += 1\n",
    "                direction_count[7] += 1\n",
    "            elif pixel_bw[current_pivot[0]][current_pivot[1]+1] == 255:\n",
    "                current_pivot = (current_pivot[0], current_pivot[1]+1)\n",
    "                direction_count[0] += 1\n",
    "            else:\n",
    "                current_direction = 2\n",
    "                direction_count[1] += 1\n",
    "                direction_count[2] += 1\n",
    "        elif current_direction == 2:\n",
    "            if pixel_bw[current_pivot[0]+1][current_pivot[1]+1] == 255:\n",
    "                current_pivot = (current_pivot[0]+1, current_pivot[1]+1)\n",
    "                current_direction = 0\n",
    "                direction_count[0] += 1\n",
    "                direction_count[1] += 1\n",
    "            elif pixel_bw[current_pivot[0]+1][current_pivot[1]] == 255:\n",
    "                current_pivot = (current_pivot[0]+1, current_pivot[1])\n",
    "                direction_count[2] += 1\n",
    "            else:\n",
    "                current_direction = 4\n",
    "                direction_count[3] += 1\n",
    "                direction_count[4] += 1\n",
    "        elif current_direction == 4:\n",
    "            if pixel_bw[current_pivot[0]+1][current_pivot[1]-1] == 255:\n",
    "                current_pivot = (current_pivot[0]+1, current_pivot[1]-1)\n",
    "                current_direction = 2\n",
    "                direction_count[2] += 1\n",
    "                direction_count[3] += 1\n",
    "            elif pixel_bw[current_pivot[0]][current_pivot[1]-1] == 255:\n",
    "                current_pivot = (current_pivot[0], current_pivot[1]-1)\n",
    "                direction_count[4] += 1\n",
    "            else:\n",
    "                current_direction = 6\n",
    "                direction_count[5] += 1\n",
    "                direction_count[6] += 1\n",
    "        else:\n",
    "            if pixel_bw[current_pivot[0]-1][current_pivot[1]-1] == 255:\n",
    "                current_pivot = (current_pivot[0]-1, current_pivot[1]-1)\n",
    "                current_direction = 4\n",
    "                direction_count[4] += 1\n",
    "                direction_count[5] += 1\n",
    "            elif pixel_bw[current_pivot[0]-1][current_pivot[1]] == 255:\n",
    "                current_pivot = (current_pivot[0]-1, current_pivot[1])\n",
    "                direction_count[6] += 1\n",
    "            else:\n",
    "                current_direction = 0\n",
    "                direction_count[7] += 1\n",
    "                direction_count[0] += 1\n",
    "    cluster_pivots[i]['chains'] = direction_count\n",
    "\n",
    "print(cluster_pivots)\n",
    "    "
   ]
  },
  {
   "cell_type": "code",
   "execution_count": 8,
   "metadata": {},
   "outputs": [
    {
     "name": "stdout",
     "output_type": "stream",
     "text": [
      "{'pivot': (21, 57), 'size': 191, 'ul': (21, 49), 'lr': (49, 68), 'chains': array([20, 13, 29, 13, 20, 13, 29, 12], dtype=uint32)}\n",
      "{'pivot': (21, 118), 'size': 143, 'ul': (21, 111), 'lr': (49, 127), 'chains': array([23,  3, 33,  9, 23,  3, 33, 10], dtype=uint32)}\n",
      "{'pivot': (21, 177), 'size': 170, 'ul': (21, 170), 'lr': (49, 187), 'chains': array([48, 11, 33, 35, 48,  7, 33, 36], dtype=uint32)}\n",
      "{'pivot': (21, 237), 'size': 178, 'ul': (21, 229), 'lr': (49, 248), 'chains': array([51, 27, 38, 25, 51, 25, 38, 22], dtype=uint32)}\n",
      "{'pivot': (21, 302), 'size': 161, 'ul': (21, 288), 'lr': (49, 308), 'chains': array([21,  3, 29,  3, 21,  3, 29, 28], dtype=uint32)}\n",
      "{'pivot': (80, 51), 'size': 193, 'ul': (80, 49), 'lr': (108, 68), 'chains': array([50, 21, 37, 19, 50, 19, 37, 14], dtype=uint32)}\n",
      "{'pivot': (80, 118), 'size': 193, 'ul': (80, 110), 'lr': (108, 128), 'chains': array([34, 21, 36, 21, 34, 17, 36, 20], dtype=uint32)}\n",
      "{'pivot': (80, 170), 'size': 124, 'ul': (80, 170), 'lr': (108, 187), 'chains': array([28,  1, 29, 21, 28,  3, 29, 20], dtype=uint32)}\n",
      "{'pivot': (80, 237), 'size': 206, 'ul': (80, 229), 'lr': (108, 248), 'chains': array([30, 17, 29, 19, 30, 19, 29, 18], dtype=uint32)}\n",
      "{'pivot': (80, 297), 'size': 190, 'ul': (80, 290), 'lr': (108, 307), 'chains': array([34, 17, 36, 21, 34, 19, 36, 18], dtype=uint32)}\n"
     ]
    }
   ],
   "source": [
    "for i, cluster in enumerate(cluster_pivots):\n",
    "    print(cluster)"
   ]
  },
  {
   "cell_type": "code",
   "execution_count": 9,
   "metadata": {},
   "outputs": [
    {
     "data": {
      "image/png": "[encoded data removed]",
      "text/plain": [
       "<PIL.Image.Image image mode=RGBA size=358x136 at 0x7EFD4C9176D8>"
      ]
     },
     "execution_count": 9,
     "metadata": {},
     "output_type": "execute_result"
    }
   ],
   "source": [
    "pixel_img_result = pixel_img.copy()\n",
    "\n",
    "for i, cluster in enumerate(cluster_pivots):\n",
    "    for j in range(cluster['ul'][0], cluster['lr'][0]+1):\n",
    "        pixel_img_result[j][cluster['ul'][1]] = [255, 0, 255, 255]\n",
    "        pixel_img_result[j][cluster['lr'][1]] = [255, 0, 255, 255]\n",
    "    for j in range(cluster['ul'][1], cluster['lr'][1]+1):\n",
    "        pixel_img_result[cluster['ul'][0]][j] = [255, 0, 255, 255]\n",
    "        pixel_img_result[cluster['lr'][0]][j] = [255, 0, 255, 255]\n",
    "\n",
    "Image.fromarray(pixel_img_result)"
   ]
  },
  {
   "cell_type": "code",
   "execution_count": null,
   "metadata": {},
   "outputs": [],
   "source": []
  }
 ],
 "metadata": {
  "kernelspec": {
   "display_name": "Python 2",
   "language": "python",
   "name": "python2"
  },
  "language_info": {
   "codemirror_mode": {
    "name": "ipython",
    "version": 2
   },
   "file_extension": ".py",
   "mimetype": "text/x-python",
   "name": "python",
   "nbconvert_exporter": "python",
   "pygments_lexer": "ipython2",
   "version": "2.7.15"
  }
 },
 "nbformat": 4,
 "nbformat_minor": 2
}
